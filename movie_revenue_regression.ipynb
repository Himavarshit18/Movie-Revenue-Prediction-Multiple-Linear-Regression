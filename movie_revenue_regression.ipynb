{
  "cells": [
    {
      "cell_type": "code",
      "execution_count": null,
      "metadata": {
        "id": "iCSh0CDyfpU4"
      },
      "outputs": [],
      "source": [
        "import numpy as np\n",
        "import pandas as pd\n",
        "import matplotlib.pyplot as plt\n",
        "import seaborn as sns\n",
        "from google.colab import files"
      ]
    },
    {
      "cell_type": "code",
      "execution_count": null,
      "metadata": {
        "colab": {
          "base_uri": "https://localhost:8080/",
          "height": 472
        },
        "id": "MH7vIyTjfytM",
        "outputId": "c058fd7b-e547-4bc0-f6b2-afb0136f3f53"
      },
      "outputs": [
        {
          "ename": "NameError",
          "evalue": "name 'files' is not defined",
          "output_type": "error",
          "traceback": [
            "\u001b[31m---------------------------------------------------------------------------\u001b[39m",
            "\u001b[31mNameError\u001b[39m                                 Traceback (most recent call last)",
            "\u001b[36mCell\u001b[39m\u001b[36m \u001b[39m\u001b[32mIn[7]\u001b[39m\u001b[32m, line 2\u001b[39m\n\u001b[32m      1\u001b[39m \u001b[38;5;66;03m#from google.colab import files\u001b[39;00m\n\u001b[32m----> \u001b[39m\u001b[32m2\u001b[39m uploaded = \u001b[43mfiles\u001b[49m.upload()\n\u001b[32m      4\u001b[39m df = pd.read_csv(\u001b[33m'\u001b[39m\u001b[33mMovies_gross_rating.csv\u001b[39m\u001b[33m'\u001b[39m)\n\u001b[32m      5\u001b[39m df.head()\n",
            "\u001b[31mNameError\u001b[39m: name 'files' is not defined"
          ]
        }
      ],
      "source": [
        "from google.colab import files\n",
        "uploaded = files.upload()\n",
        "\n",
        "df = pd.read_csv('Movies_gross_rating.csv')\n",
        "df.head()\n"
      ]
    },
    {
      "cell_type": "code",
      "execution_count": null,
      "metadata": {
        "id": "_JPX7XswgFeh"
      },
      "outputs": [],
      "source": [
        "# Select numeric features and target\n",
        "features = ['Budget', 'Runtime', 'Rating', 'Rating Count', 'release date_DD', 'release month_MM']\n",
        "target = 'Gross'\n",
        "\n",
        "# Drop missing values\n",
        "df = df[features + [target]].dropna()\n",
        "\n",
        "# Convert to NumPy arrays\n",
        "X = df[features].values\n",
        "y = df[target].values\n"
      ]
    },
    {
      "cell_type": "code",
      "execution_count": null,
      "metadata": {
        "colab": {
          "base_uri": "https://localhost:8080/",
          "height": 1000
        },
        "id": "4GXRZVnagJ0g",
        "outputId": "a22db62b-f35e-4c7d-e2cf-fe70cffd82ed"
      },
      "outputs": [],
      "source": [
        "# Plot feature vs target\n",
        "for i, col in enumerate(features):\n",
        "    plt.figure(figsize=(5, 4))\n",
        "    sns.scatterplot(x=df[col], y=df[target])\n",
        "    plt.title(f'{col} vs {target}')\n",
        "    plt.grid(True)\n",
        "    plt.show()"
      ]
    },
    {
      "cell_type": "code",
      "execution_count": null,
      "metadata": {
        "id": "1R7tdw-0gPd7"
      },
      "outputs": [],
      "source": [
        "# Normalize features\n",
        "X_mean = X.mean(axis=0)\n",
        "X_std = X.std(axis=0)\n",
        "X_norm = (X - X_mean) / X_std\n",
        "\n",
        "# Normalize target\n",
        "y_mean = y.mean()\n",
        "y_std = y.std()\n",
        "y_norm = (y - y_mean) / y_std"
      ]
    },
    {
      "cell_type": "code",
      "execution_count": null,
      "metadata": {
        "colab": {
          "base_uri": "https://localhost:8080/",
          "height": 1000
        },
        "id": "CeLRIGzigXjA",
        "outputId": "ae85e653-31d3-465e-bb81-dedcf53c8f71"
      },
      "outputs": [],
      "source": [
        "# Plot before vs after normalization\n",
        "for i in range(X.shape[1]):\n",
        "    fig, axs = plt.subplots(1, 2, figsize=(10, 4))\n",
        "    sns.histplot(X[:, i], ax=axs[0], kde=True)\n",
        "    axs[0].set_title(f'{features[i]} - Before Normalization')\n",
        "\n",
        "    sns.histplot(X_norm[:, i], ax=axs[1], kde=True)\n",
        "    axs[1].set_title(f'{features[i]} - After Normalization')\n",
        "    plt.tight_layout()\n",
        "    plt.show()"
      ]
    },
    {
      "cell_type": "code",
      "execution_count": null,
      "metadata": {
        "id": "rgNm21r3gf4o"
      },
      "outputs": [],
      "source": [
        "# Gradient Descent with Learning Rate Sweep\n",
        "n_samples, n_features = X_norm.shape\n",
        "learning_rates = [0.0001, 0.0005, 0.001, 0.005, 0.01,0.1]\n",
        "epochs = 200\n",
        "loss_curves = {}\n",
        "\n",
        "for lr in learning_rates:\n",
        "    w = np.random.randn(n_features) * 0.01\n",
        "    b = 0.0\n",
        "    losses = []\n",
        "\n",
        "    for epoch in range(epochs):\n",
        "        y_pred = X_norm.dot(w) + b\n",
        "        error = y_pred - y_norm\n",
        "\n",
        "        loss = np.mean(error ** 2)\n",
        "        losses.append(loss)\n",
        "\n",
        "        dw = (2 / n_samples) * X_norm.T.dot(error)\n",
        "        db = (2 / n_samples) * np.sum(error)\n",
        "\n",
        "        w -= lr * dw\n",
        "        b -= lr * db\n",
        "\n",
        "    loss_curves[lr] = losses"
      ]
    },
    {
      "cell_type": "code",
      "execution_count": null,
      "metadata": {
        "colab": {
          "base_uri": "https://localhost:8080/",
          "height": 564
        },
        "id": "XmNrMG_Yglx8",
        "outputId": "d8135da5-f522-4934-858b-ee851dcda200"
      },
      "outputs": [],
      "source": [
        "# Plot all learning curves\n",
        "plt.figure(figsize=(10, 6))\n",
        "for lr, losses in loss_curves.items():\n",
        "    plt.plot(losses, label=f'lr={lr}')\n",
        "plt.xlabel(\"Epoch\")\n",
        "plt.ylabel(\"MSE Loss\")\n",
        "plt.title(\"Learning Curves for Different Learning Rates\")\n",
        "plt.legend()\n",
        "plt.grid(True)\n",
        "plt.show()"
      ]
    },
    {
      "cell_type": "code",
      "execution_count": null,
      "metadata": {
        "colab": {
          "base_uri": "https://localhost:8080/"
        },
        "id": "GY3D2dddi4WS",
        "outputId": "f8e85745-e511-4543-841d-d12d98ed1ae3"
      },
      "outputs": [],
      "source": [
        "# Step 9: Final Training with Best Learning Rate (e.g., 0.1)\n",
        "best_lr = 0.1\n",
        "w = np.random.randn(n_features) * 0.01\n",
        "b = 0.0\n",
        "loss_history = []\n",
        "\n",
        "for epoch in range(500):\n",
        "    y_pred = X_norm.dot(w) + b\n",
        "    error = y_pred - y_norm\n",
        "    loss = np.mean(error ** 2)\n",
        "    loss_history.append(loss)\n",
        "\n",
        "    dw = (2 / n_samples) * X_norm.T.dot(error)\n",
        "    db = (2 / n_samples) * np.sum(error)\n",
        "\n",
        "    w -= best_lr * dw\n",
        "    b -= best_lr * db\n",
        "\n",
        "    if epoch % 50 == 0:\n",
        "        print(f\"Epoch {epoch}: Loss = {loss:.4f}\")"
      ]
    },
    {
      "cell_type": "code",
      "execution_count": null,
      "metadata": {
        "colab": {
          "base_uri": "https://localhost:8080/",
          "height": 490
        },
        "id": "jYhGbIV2i8e7",
        "outputId": "bcd3b413-8ab5-459e-b1fd-0e01e358ea60"
      },
      "outputs": [],
      "source": [
        "# Step 10: Plot Final Learning Curve\n",
        "plt.plot(loss_history)\n",
        "plt.xlabel(\"Epoch\")\n",
        "plt.ylabel(\"MSE Loss\")\n",
        "plt.title(f\"Final Learning Curve (lr={best_lr})\")\n",
        "plt.grid(True)\n",
        "plt.show()\n",
        "\n",
        "# Step 11: Evaluation\n",
        "y_pred = X_norm.dot(w) + b\n",
        "r2 = 1 - np.sum((y_norm - y_pred) ** 2) / np.sum((y_norm - y_norm.mean()) ** 2)\n",
        "print(f\"R² Score: {r2:.4f}\")"
      ]
    },
    {
      "cell_type": "code",
      "execution_count": null,
      "metadata": {
        "colab": {
          "base_uri": "https://localhost:8080/",
          "height": 927
        },
        "id": "ZqyNONBUjAh4",
        "outputId": "2fc7adf0-257e-40e5-c0e6-a2b0f5c4c02e"
      },
      "outputs": [],
      "source": [
        "# Reverse normalization to original scale\n",
        "y_pred_original = y_pred * y_std + y_mean\n",
        "\n",
        "# Plot Actual vs Predicted (normalized)\n",
        "plt.scatter(y_norm, y_pred)\n",
        "plt.plot(y_norm, y_norm, 'r--', label='Perfect Prediction')\n",
        "plt.xlabel(\"Actual (Normalized Gross)\")\n",
        "plt.ylabel(\"Predicted (Normalized Gross)\")\n",
        "plt.title(\"Actual vs Predicted (Normalized)\")\n",
        "plt.legend()\n",
        "plt.grid(True)\n",
        "plt.show()\n",
        "\n",
        "\n",
        "# Plot Actual vs Predicted (original scale)\n",
        "plt.scatter(y, y_pred_original)\n",
        "plt.plot(y, y, 'r--', label='Perfect Prediction')\n",
        "plt.xlabel(\"Actual Gross Revenue\")\n",
        "plt.ylabel(\"Predicted Gross Revenue\")\n",
        "plt.title(\"Actual vs Predicted (Original Scale)\")\n",
        "plt.legend()\n",
        "plt.grid(True)\n",
        "plt.show()"
      ]
    },
    {
      "cell_type": "code",
      "execution_count": null,
      "metadata": {
        "colab": {
          "base_uri": "https://localhost:8080/"
        },
        "id": "F481Gy5_oEV9",
        "outputId": "59396da6-f652-4154-936c-23e20527e01a"
      },
      "outputs": [],
      "source": [
        "def predict_gross(user_input_features):\n",
        "    \"\"\"\n",
        "    Predict gross revenue for a single input feature vector.\n",
        "\n",
        "    user_input_features: list or array-like of length equal to number of features\n",
        "                         Order must be the same as `features` list:\n",
        "                         ['Budget', 'Runtime', 'Rating', 'Rating Count', 'release date_DD', 'release month_MM']\n",
        "    \"\"\"\n",
        "    x = np.array(user_input_features, dtype=float)\n",
        "    x_norm = (x - X_mean) / X_std\n",
        "    y_pred_norm = np.dot(x_norm, w) + b\n",
        "    y_pred_original = y_pred_norm * y_std + y_mean\n",
        "    return y_pred_original\n",
        "\n",
        "# Example: Interactive user input (works in Colab)\n",
        "print(\"\\nEnter movie feature values to predict Gross Revenue:\")\n",
        "\n",
        "user_features = []\n",
        "for feature_name in features:\n",
        "    val = float(input(f\"{feature_name}: \"))\n",
        "    user_features.append(val)\n",
        "\n",
        "predicted_gross = predict_gross(user_features)\n",
        "print(f\"\\nPredicted Gross Revenue: ${predicted_gross:,.2f}\")"
      ]
    }
  ],
  "metadata": {
    "colab": {
      "provenance": []
    },
    "kernelspec": {
      "display_name": "Python 3",
      "language": "python",
      "name": "python3"
    },
    "language_info": {
      "codemirror_mode": {
        "name": "ipython",
        "version": 3
      },
      "file_extension": ".py",
      "mimetype": "text/x-python",
      "name": "python",
      "nbconvert_exporter": "python",
      "pygments_lexer": "ipython3",
      "version": "3.12.6"
    }
  },
  "nbformat": 4,
  "nbformat_minor": 0
}
